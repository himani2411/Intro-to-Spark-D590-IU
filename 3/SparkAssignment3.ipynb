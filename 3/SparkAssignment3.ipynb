{
 "cells": [
  {
   "cell_type": "markdown",
   "id": "13505c2e",
   "metadata": {},
   "source": [
    "# Counting the Words in Logfile"
   ]
  },
  {
   "cell_type": "code",
   "execution_count": 1,
   "id": "70aa21f7",
   "metadata": {},
   "outputs": [
    {
     "name": "stdout",
     "output_type": "stream",
     "text": [
      "Requirement already satisfied: py4j in /Users/himanideshpande/miniforge3/envs/ENV_SPARK/lib/python3.8/site-packages (0.10.9.3)\n",
      "Note: you may need to restart the kernel to use updated packages.\n"
     ]
    }
   ],
   "source": [
    "pip install py4j"
   ]
  },
  {
   "cell_type": "markdown",
   "id": "eec62cec",
   "metadata": {},
   "source": [
    "Connecting to Spark Cluster"
   ]
  },
  {
   "cell_type": "code",
   "execution_count": 2,
   "id": "c7265b0f",
   "metadata": {},
   "outputs": [
    {
     "name": "stderr",
     "output_type": "stream",
     "text": [
      "22/02/27 16:27:25 WARN Utils: Your hostname, Himanis-MacBook-Air.local resolves to a loopback address: 127.0.0.1; using 192.168.0.205 instead (on interface en0)\n",
      "22/02/27 16:27:25 WARN Utils: Set SPARK_LOCAL_IP if you need to bind to another address\n",
      "WARNING: An illegal reflective access operation has occurred\n",
      "WARNING: Illegal reflective access by org.apache.spark.unsafe.Platform (file:/Users/himanideshpande/miniforge3/envs/ENV_SPARK/SparkInstallation/spark-3.2.1-bin-hadoop2.7/jars/spark-unsafe_2.12-3.2.1.jar) to constructor java.nio.DirectByteBuffer(long,int)\n",
      "WARNING: Please consider reporting this to the maintainers of org.apache.spark.unsafe.Platform\n",
      "WARNING: Use --illegal-access=warn to enable warnings of further illegal reflective access operations\n",
      "WARNING: All illegal access operations will be denied in a future release\n",
      "Using Spark's default log4j profile: org/apache/spark/log4j-defaults.properties\n",
      "Setting default log level to \"WARN\".\n",
      "To adjust logging level use sc.setLogLevel(newLevel). For SparkR, use setLogLevel(newLevel).\n",
      "22/02/27 16:27:26 WARN NativeCodeLoader: Unable to load native-hadoop library for your platform... using builtin-java classes where applicable\n"
     ]
    }
   ],
   "source": [
    "from pyspark import SparkContext\n",
    "import json\n",
    "import csv\n",
    "from io import StringIO\n",
    "from pyspark.sql import HiveContext\n",
    "sc = SparkContext()"
   ]
  },
  {
   "cell_type": "markdown",
   "id": "a4bd7d25",
   "metadata": {},
   "source": [
    "Question 1. \n",
    "Import the data from people.json file using JSON python library."
   ]
  },
  {
   "cell_type": "code",
   "execution_count": 3,
   "id": "599bc864",
   "metadata": {},
   "outputs": [],
   "source": [
    "datafile = \"file:///Users/himanideshpande/miniforge3/envs/ENV_SPARK/SparkInstallation/spark-3.2.1-bin-hadoop2.7/examples/src/main/resources/people.json\"\n",
    "input_json = sc.textFile(datafile)\n"
   ]
  },
  {
   "cell_type": "code",
   "execution_count": 4,
   "id": "f3c06123",
   "metadata": {},
   "outputs": [],
   "source": [
    "\n",
    "data = input_json.map(lambda x:json.loads(x))"
   ]
  },
  {
   "cell_type": "markdown",
   "id": "6ecd569e",
   "metadata": {},
   "source": [
    "Question 2.\n",
    "Import people.json file using HiveContext or sqlContext into a DataFrame. Print schema information using printSchema() function. Next register the dataframe as a temporary table. Display distinct names from the people.json file by firing a SQL query on the temporary table created. Submit your code and the screenshot of the results. - "
   ]
  },
  {
   "cell_type": "code",
   "execution_count": 5,
   "id": "e8501279",
   "metadata": {},
   "outputs": [
    {
     "name": "stderr",
     "output_type": "stream",
     "text": [
      "/Users/himanideshpande/miniforge3/envs/ENV_SPARK/lib/python3.8/site-packages/pyspark/sql/context.py:601: FutureWarning: HiveContext is deprecated in Spark 2.0.0. Please use SparkSession.builder.enableHiveSupport().getOrCreate() instead.\n",
      "  warnings.warn(\n"
     ]
    },
    {
     "name": "stdout",
     "output_type": "stream",
     "text": [
      "root\n",
      " |-- age: long (nullable = true)\n",
      " |-- name: string (nullable = true)\n",
      "\n"
     ]
    },
    {
     "name": "stderr",
     "output_type": "stream",
     "text": [
      "\r",
      "[Stage 0:>                                                          (0 + 1) / 1]\r",
      "\r",
      "                                                                                \r"
     ]
    }
   ],
   "source": [
    "hiveCtx = HiveContext(sc)\n",
    "person_json_data = hiveCtx.read.json(datafile)\n",
    "\n",
    "person_json_data.printSchema()\n"
   ]
  },
  {
   "cell_type": "code",
   "execution_count": 6,
   "id": "e586d4b2",
   "metadata": {},
   "outputs": [
    {
     "name": "stderr",
     "output_type": "stream",
     "text": [
      "/Users/himanideshpande/miniforge3/envs/ENV_SPARK/lib/python3.8/site-packages/pyspark/sql/dataframe.py:138: FutureWarning: Deprecated in 2.0, use createOrReplaceTempView instead.\n",
      "  warnings.warn(\n"
     ]
    }
   ],
   "source": [
    "person_json_data.registerTempTable(\"persons\")\n",
    "results = hiveCtx.sql(\"SELECT distinct(name) FROM persons order by name ASC\")"
   ]
  },
  {
   "cell_type": "code",
   "execution_count": 7,
   "id": "9bc5d6b3",
   "metadata": {},
   "outputs": [
    {
     "name": "stdout",
     "output_type": "stream",
     "text": [
      "+-------+\n",
      "|   name|\n",
      "+-------+\n",
      "|   Andy|\n",
      "| Justin|\n",
      "|Michael|\n",
      "+-------+\n",
      "\n"
     ]
    }
   ],
   "source": [
    "results.show()"
   ]
  },
  {
   "cell_type": "markdown",
   "id": "b2f8fa37",
   "metadata": {},
   "source": [
    "Question 3.\n",
    " Import file people.txt located at the same location as people.json into a rdd using built-in CSV library. Import the CSV library at the beginning and use csv.reader() to load the data. Display the data in your rdd. Submit your code and screenshot of the results. "
   ]
  },
  {
   "cell_type": "code",
   "execution_count": 8,
   "id": "9e57ce92",
   "metadata": {},
   "outputs": [],
   "source": [
    "datatxtfile = \"/Users/himanideshpande/miniforge3/envs/ENV_SPARK/SparkInstallation/spark-3.2.1-bin-hadoop2.7/examples/src/main/resources/people.txt\"\n",
    "\n"
   ]
  },
  {
   "cell_type": "code",
   "execution_count": 10,
   "id": "7f5b3e67",
   "metadata": {},
   "outputs": [],
   "source": [
    "\n",
    "\n",
    "def loadCSVRecord(line):\n",
    "\n",
    "    input = StringIO(line)\n",
    "#     reader = csv.DictReader(input, fieldnames=[\"name\", \"age\"])\n",
    "    reader = csv.reader(input, delimiter=',')\n",
    "    return next(reader)\n",
    "\n",
    "input_csv = sc.textFile(datatxtfile).map(loadCSVRecord)"
   ]
  },
  {
   "cell_type": "code",
   "execution_count": 11,
   "id": "a4a3dcf5",
   "metadata": {},
   "outputs": [
    {
     "data": {
      "text/plain": [
       "[['Michael', ' 29'], ['Andy', ' 30'], ['Justin', ' 19']]"
      ]
     },
     "execution_count": 11,
     "metadata": {},
     "output_type": "execute_result"
    }
   ],
   "source": [
    "input_csv.collect()"
   ]
  }
 ],
 "metadata": {
  "kernelspec": {
   "display_name": "Python 3 (ipykernel)",
   "language": "python",
   "name": "python3"
  },
  "language_info": {
   "codemirror_mode": {
    "name": "ipython",
    "version": 3
   },
   "file_extension": ".py",
   "mimetype": "text/x-python",
   "name": "python",
   "nbconvert_exporter": "python",
   "pygments_lexer": "ipython3",
   "version": "3.8.12"
  }
 },
 "nbformat": 4,
 "nbformat_minor": 5
}
